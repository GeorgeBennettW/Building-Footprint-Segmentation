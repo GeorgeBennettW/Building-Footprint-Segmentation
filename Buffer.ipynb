{
 "cells": [
  {
   "cell_type": "code",
   "execution_count": 20,
   "id": "bb79a436",
   "metadata": {},
   "outputs": [],
   "source": [
    "import geopandas as gpd\n",
    "import os\n",
    "import glob\n",
    "import rasterio\n",
    "from shapely.geometry import box"
   ]
  },
  {
   "cell_type": "code",
   "execution_count": 21,
   "id": "fef0dcfb",
   "metadata": {},
   "outputs": [],
   "source": [
    "buildings = gpd.read_file(\"Raw_dataset/data_02.shp\")\n",
    "\n",
    "# Folder containing your TIFF tiles\n",
    "tif_folder = \"Dataset/train\"\n",
    "search_pattern = os.path.join(tif_folder, \"Dataset.*.tif\")\n",
    "tile_paths = sorted(glob.glob(search_pattern))\n",
    "\n",
    "# Output folder for clipped shapefiles\n",
    "output_folder = \"Dataset/train_shp\"\n",
    "os.makedirs(output_folder, exist_ok=True)"
   ]
  },
  {
   "cell_type": "code",
   "execution_count": 22,
   "id": "94fffb73",
   "metadata": {},
   "outputs": [],
   "source": [
    "for tile_path in tile_paths:\n",
    "    with rasterio.open(tile_path) as src:\n",
    "        bounds = src.bounds\n",
    "        tile_crs = src.crs\n",
    "        tile_name = os.path.splitext(os.path.basename(tile_path))[0]\n",
    "\n",
    "        # Create a GeoDataFrame from the tile's bounding box\n",
    "        tile_geom = box(bounds.left, bounds.bottom, bounds.right, bounds.top)\n",
    "        tile_gdf = gpd.GeoDataFrame({'geometry': [tile_geom]}, crs=tile_crs)\n",
    "\n",
    "        # Reproject shapefile if needed\n",
    "        if buildings.crs != tile_crs:\n",
    "            buildings_proj = buildings.to_crs(tile_crs)\n",
    "        else:\n",
    "            buildings_proj = buildings\n",
    "\n",
    "        # Clip buildings to the tile's bounding box\n",
    "        clipped = gpd.overlay(buildings_proj, tile_gdf, how='intersection')\n",
    "\n",
    "        # Save to a new shapefile\n",
    "        out_path = os.path.join(output_folder, f\"{tile_name}.shp\")\n",
    "        clipped.to_file(out_path)"
   ]
  },
  {
   "cell_type": "code",
   "execution_count": 23,
   "id": "a82e16bf",
   "metadata": {},
   "outputs": [],
   "source": [
    "input_folder = \"Dataset/train_shp\"\n",
    "output_folder = \"Dataset/train_shp\""
   ]
  },
  {
   "cell_type": "code",
   "execution_count": 24,
   "id": "fc436bab",
   "metadata": {},
   "outputs": [],
   "source": [
    "os.makedirs(input_folder, exist_ok=True)"
   ]
  },
  {
   "cell_type": "code",
   "execution_count": 25,
   "id": "dcf67c3d",
   "metadata": {},
   "outputs": [],
   "source": [
    "shapefiles = glob.glob(os.path.join(input_folder, \"*.shp\"))"
   ]
  },
  {
   "cell_type": "code",
   "execution_count": 26,
   "id": "50486536",
   "metadata": {},
   "outputs": [],
   "source": [
    "for shp_path in shapefiles:\n",
    "    # Read the shapefile\n",
    "    gdf = gpd.read_file(shp_path)\n",
    "\n",
    "    # Apply buffer (adjust distance as needed; negative = shrink)\n",
    "    buffered = gdf.buffer(-0.5)\n",
    "\n",
    "    # Create new GeoDataFrame with buffered geometries\n",
    "    buffered_gdf = gpd.GeoDataFrame(geometry=buffered, crs=gdf.crs)\n",
    "\n",
    "    # Create output file name\n",
    "    base_name = os.path.basename(shp_path)\n",
    "    output_path = os.path.join(output_folder, base_name)\n",
    "\n",
    "    # Save buffered shapefile\n",
    "    buffered_gdf.to_file(output_path)\n"
   ]
  }
 ],
 "metadata": {
  "kernelspec": {
   "display_name": "Python 3",
   "language": "python",
   "name": "python3"
  },
  "language_info": {
   "codemirror_mode": {
    "name": "ipython",
    "version": 3
   },
   "file_extension": ".py",
   "mimetype": "text/x-python",
   "name": "python",
   "nbconvert_exporter": "python",
   "pygments_lexer": "ipython3",
   "version": "3.13.5"
  }
 },
 "nbformat": 4,
 "nbformat_minor": 5
}
