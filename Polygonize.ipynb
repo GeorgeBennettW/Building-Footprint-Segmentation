{
 "cells": [
  {
   "cell_type": "code",
   "execution_count": 1,
   "id": "b1a53fe4",
   "metadata": {},
   "outputs": [],
   "source": [
    "import os\n",
    "import numpy as np\n",
    "import rasterio\n",
    "from rasterio.features import shapes\n",
    "from shapely.geometry import shape\n",
    "import geopandas as gpd"
   ]
  },
  {
   "cell_type": "code",
   "execution_count": 11,
   "id": "74213328",
   "metadata": {},
   "outputs": [],
   "source": [
    "# Set folder path\n",
    "input_folder = 'RCNN_predicted_masks'\n",
    "output_folder = 'RCNN_polygonized_outputs'\n",
    "os.makedirs(output_folder, exist_ok=True)"
   ]
  },
  {
   "cell_type": "code",
   "execution_count": null,
   "id": "6009e808",
   "metadata": {},
   "outputs": [
    {
     "name": "stdout",
     "output_type": "stream",
     "text": [
      "Processing: Dataset.13_predicted.tif\n",
      "Saved shapefile to: RCNN_polygonized_outputs\\Dataset.13_predicted.shp\n",
      "Processing: Dataset.25_predicted.tif\n",
      "Saved shapefile to: RCNN_polygonized_outputs\\Dataset.25_predicted.shp\n",
      "Processing: Dataset.27_predicted.tif\n",
      "Saved shapefile to: RCNN_polygonized_outputs\\Dataset.27_predicted.shp\n",
      "Processing: Dataset.3_predicted.tif\n",
      "Saved shapefile to: RCNN_polygonized_outputs\\Dataset.3_predicted.shp\n",
      "Processing: Dataset.41_predicted.tif\n",
      "Saved shapefile to: RCNN_polygonized_outputs\\Dataset.41_predicted.shp\n",
      "Processing: Dataset.51_predicted.tif\n",
      "Saved shapefile to: RCNN_polygonized_outputs\\Dataset.51_predicted.shp\n",
      "Processing: Dataset.54_predicted.tif\n",
      "Saved shapefile to: RCNN_polygonized_outputs\\Dataset.54_predicted.shp\n",
      "Processing: Dataset.8_predicted.tif\n",
      "Saved shapefile to: RCNN_polygonized_outputs\\Dataset.8_predicted.shp\n"
     ]
    }
   ],
   "source": [
    "for filename in os.listdir(input_folder):\n",
    "    if filename.endswith(\".tif\"):\n",
    "        file_path = os.path.join(input_folder, filename)\n",
    "        print(f\"Processing: {filename}\")\n",
    "\n",
    "        # Read the raster\n",
    "        with rasterio.open(file_path) as src:\n",
    "            image = src.read(1)\n",
    "            transform = src.transform\n",
    "            crs = src.crs  # get the CRS from the source file\n",
    "\n",
    "        # Create a mask for polygonizing\n",
    "        mask = image > 0  # buildings are marked as non-zero\n",
    "\n",
    "        # Generate shapes (polygons) from the mask\n",
    "        results = (\n",
    "            {\"properties\": {\"value\": v}, \"geometry\": s}\n",
    "            for s, v in shapes(image, mask=mask, transform=transform)\n",
    "            if v > 0\n",
    "        )\n",
    "\n",
    "        # Convert to a GeoDataFrame\n",
    "        geoms = []\n",
    "        for res in results:\n",
    "            geom = shape(res[\"geometry\"])\n",
    "            geoms.append({\"geometry\": geom, \"value\": res[\"properties\"][\"value\"]})\n",
    "\n",
    "        gdf = gpd.GeoDataFrame(geoms)\n",
    "        gdf.set_crs(crs, inplace=True)  # Set the CRS\n",
    "\n",
    "        # Save to Shapefile\n",
    "        shp_name = os.path.splitext(filename)[0] + '.shp'\n",
    "        shp_path = os.path.join(output_folder, shp_name)\n",
    "        gdf.to_file(shp_path, driver='ESRI Shapefile')\n",
    "        print(f\"Saved shapefile to: {shp_path}\")"
   ]
  }
 ],
 "metadata": {
  "kernelspec": {
   "display_name": "Python 3",
   "language": "python",
   "name": "python3"
  },
  "language_info": {
   "codemirror_mode": {
    "name": "ipython",
    "version": 3
   },
   "file_extension": ".py",
   "mimetype": "text/x-python",
   "name": "python",
   "nbconvert_exporter": "python",
   "pygments_lexer": "ipython3",
   "version": "3.13.5"
  }
 },
 "nbformat": 4,
 "nbformat_minor": 5
}
